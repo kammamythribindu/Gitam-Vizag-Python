{
 "cells": [
  {
   "cell_type": "markdown",
   "metadata": {},
   "source": [
    "<h1 align= 'center'>Mini Project on IPL Data-set</h1></font>"
   ]
  },
  {
   "cell_type": "markdown",
   "metadata": {},
   "source": [
    "### Problem Statement 1(1): Display the count of matches based on the year wise"
   ]
  },
  {
   "cell_type": "code",
   "execution_count": 16,
   "metadata": {},
   "outputs": [],
   "source": [
    "import pandas as pd\n",
    "filePath='DataFiles/Match.csv'\n",
    "def readCsvData(filePath):\n",
    "    return pd.read_csv(filePath)\n",
    "df=readCsvData(filePath)"
   ]
  },
  {
   "cell_type": "code",
   "execution_count": 3,
   "metadata": {},
   "outputs": [
    {
     "name": "stdout",
     "output_type": "stream",
     "text": [
      "             Match_SK  match_id  Team1  Team2  match_date  Venue_Name  \\\n",
      "Season_Year                                                             \n",
      "2008               58        58     58     58          58          58   \n",
      "2009               57        57     57     57          57          57   \n",
      "2010               60        60     60     60          60          60   \n",
      "2011               73        73     73     73          73          73   \n",
      "2012               74        74     74     74          74          74   \n",
      "2013               76        76     76     76          76          76   \n",
      "2014               60        60     60     60          60          60   \n",
      "2015               59        59     59     59          59          59   \n",
      "2016               60        60     60     60          60          60   \n",
      "2017               60        60     60     60          60          59   \n",
      "\n",
      "             City_Name  Country_Name  Toss_Winner  match_winner  Toss_Name  \\\n",
      "Season_Year                                                                  \n",
      "2008                58            58           58            58         58   \n",
      "2009                57            57           57            57         57   \n",
      "2010                60            60           60            60         60   \n",
      "2011                73            73           73            72         73   \n",
      "2012                74            74           74            74         74   \n",
      "2013                76            76           76            76         76   \n",
      "2014                60            60           60            60         60   \n",
      "2015                59            59           59            57         59   \n",
      "2016                60            60           60            60         60   \n",
      "2017                60            60           59            60         59   \n",
      "\n",
      "             Win_Type  Outcome_Type  ManOfMach  Win_Margin  Country_id  \n",
      "Season_Year                                                             \n",
      "2008               58            58         58          58          58  \n",
      "2009               57            57         57          56          57  \n",
      "2010               60            60         60          59          60  \n",
      "2011               73            73         72          72          73  \n",
      "2012               74            74         74          74          74  \n",
      "2013               76            76         76          74          76  \n",
      "2014               60            60         60          59          60  \n",
      "2015               59            59         57          56          59  \n",
      "2016               60            60         60          60          60  \n",
      "2017               58            60         59          60          60  \n"
     ]
    }
   ],
   "source": [
    "count=df.groupby(['Season_Year']).count()\n",
    "print(count)"
   ]
  },
  {
   "cell_type": "code",
   "execution_count": 6,
   "metadata": {},
   "outputs": [
    {
     "data": {
      "text/plain": [
       "Season_Year\n",
       "2008    58\n",
       "2009    57\n",
       "2010    60\n",
       "2011    73\n",
       "2012    74\n",
       "2013    76\n",
       "2014    60\n",
       "2015    59\n",
       "2016    60\n",
       "2017    60\n",
       "Name: Match_SK, dtype: int64"
      ]
     },
     "execution_count": 6,
     "metadata": {},
     "output_type": "execute_result"
    }
   ],
   "source": [
    "df.groupby('Season_Year')['Match_SK'].count()"
   ]
  },
  {
   "cell_type": "markdown",
   "metadata": {},
   "source": [
    "### Problem Statement 1(2): Plot a bar graph  no. of matches won by each team in the year  2011"
   ]
  },
  {
   "cell_type": "code",
   "execution_count": 6,
   "metadata": {},
   "outputs": [
    {
     "name": "stdout",
     "output_type": "stream",
     "text": [
      "match_winner\n",
      "Chennai Super Kings            11\n",
      "Deccan Chargers                 6\n",
      "Delhi Daredevils                4\n",
      "Kings XI Punjab                 7\n",
      "Kochi Tuskers Kerala            6\n",
      "Kolkata Knight Riders           8\n",
      "Mumbai Indians                 10\n",
      "Pune Warriors                   4\n",
      "Rajasthan Royals                6\n",
      "Royal Challengers Bangalore    10\n",
      "Name: Season_Year, dtype: int64\n",
      "[11, 6, 4, 7, 6, 8, 10, 4, 6, 10]\n"
     ]
    }
   ],
   "source": [
    "C=df.groupby('Season_Year')\n",
    "B=C.get_group(2011)\n",
    "c=B.groupby('match_winner')['Season_Year'].count()\n",
    "print(c)\n",
    "D=c.tolist()\n",
    "print(D)\n"
   ]
  },
  {
   "cell_type": "code",
   "execution_count": 11,
   "metadata": {},
   "outputs": [
    {
     "data": {
      "image/png": "[encoded data removed]",
      "text/plain": [
       "<Figure size 432x288 with 1 Axes>"
      ]
     },
     "metadata": {},
     "output_type": "display_data"
    }
   ],
   "source": [
    "import numpy as np\n",
    "import matplotlib.pyplot as plt\n",
    "marks=D\n",
    "#avg_marks=[56,72,78,89]\n",
    "divisions=['Chennai Super Kings','Deccan Chargers', 'Delhi Daredevils','Kings XI Punjab','Kochi Tuskers Kerala','Kolkata Knight Riders','Mumbai Indians'                 \n",
    ",'Pune Warriors'                   \n",
    ",'Rajasthan Royals'                \n",
    ",'Royal Challengers Bangalore']\n",
    "index=np.arange(len(divisions))\n",
    "plt.barh(divisions,marks,color=\"#1412cd\")\n",
    "plt.show()"
   ]
  },
  {
   "cell_type": "markdown",
   "metadata": {},
   "source": [
    "### Problem Statement 1(3):Print  ManOfMatch count of each player in  Hyderabad stadium"
   ]
  },
  {
   "cell_type": "code",
   "execution_count": 15,
   "metadata": {},
   "outputs": [
    {
     "name": "stdout",
     "output_type": "stream",
     "text": [
      "ManOfMach\n",
      "A Mishra             2\n",
      "AB Dinda             1\n",
      "AT Rayudu            1\n",
      "B Kumar              1\n",
      "CH Morris            1\n",
      "DA Warner            6\n",
      "DJ Bravo             1\n",
      "DJG Sammy            1\n",
      "DW Steyn             3\n",
      "G Gambhir            1\n",
      "GH Vihari            2\n",
      "I Sharma             1\n",
      "MJ McClenaghan       1\n",
      "MR Marsh             1\n",
      "Mandeep Singh        1\n",
      "Mustafizur Rahman    1\n",
      "PA Patel             1\n",
      "PC Valthaty          1\n",
      "R Vinay Kumar        1\n",
      "SC Ganguly           1\n",
      "SE Marsh             1\n",
      "SK Raina             2\n",
      "SK Trivedi           1\n",
      "SL Malinga           1\n",
      "UT Yadav             1\n",
      "V Kohli              1\n",
      "V Sehwag             2\n",
      "WP Saha              1\n",
      "YK Pathan            2\n",
      "Name: City_Name, dtype: int64\n"
     ]
    }
   ],
   "source": [
    "City=df.groupby('City_Name')\n",
    "A=City.get_group('Hyderabad')\n",
    "player=A.groupby('ManOfMach')['City_Name'].count()\n",
    "print(player)"
   ]
  }
 ],
 "metadata": {
  "kernelspec": {
   "display_name": "Python 3",
   "language": "python",
   "name": "python3"
  },
  "language_info": {
   "codemirror_mode": {
    "name": "ipython",
    "version": 3
   },
   "file_extension": ".py",
   "mimetype": "text/x-python",
   "name": "python",
   "nbconvert_exporter": "python",
   "pygments_lexer": "ipython3",
   "version": "3.6.5"
  }
 },
 "nbformat": 4,
 "nbformat_minor": 2
}
