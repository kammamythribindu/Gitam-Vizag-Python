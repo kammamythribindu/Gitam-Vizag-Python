{
 "cells": [
  {
   "cell_type": "markdown",
   "metadata": {},
   "source": [
    "### Programming in Python with Strings\n",
    "- strings\n",
    "- string slicing\n",
    "- Fundamental programs and Examples with Strings"
   ]
  },
  {
   "cell_type": "code",
   "execution_count": 4,
   "metadata": {},
   "outputs": [
    {
     "name": "stdout",
     "output_type": "stream",
     "text": [
      "Python\n",
      "Programming\n",
      "A\n",
      "<class 'str'>\n",
      "<class 'str'>\n",
      "<class 'str'>\n"
     ]
    }
   ],
   "source": [
    "s1='Python'\n",
    "s2=\"Programming\"\n",
    "s3='A'\n",
    "print(s1)\n",
    "print(s2)\n",
    "print(s3)\n",
    "print(type(s1))\n",
    "print(type(s2))\n",
    "print(type(s3))"
   ]
  },
  {
   "cell_type": "markdown",
   "metadata": {},
   "source": [
    "## String Slicing"
   ]
  },
  {
   "cell_type": "code",
   "execution_count": 10,
   "metadata": {},
   "outputs": [
    {
     "name": "stdout",
     "output_type": "stream",
     "text": [
      "P\n",
      "y\n",
      "6\n",
      "n\n",
      "n\n",
      "o\n"
     ]
    }
   ],
   "source": [
    "s1=\"Python\"\n",
    "print(s1[0]) # accessing the first character of the string\n",
    "print(s1[1])\n",
    "print(len(s1))\n",
    "print(s1[-1])\n",
    "print(s1[len(s1)-1])\n",
    "print(s1[-2])\n"
   ]
  },
  {
   "cell_type": "code",
   "execution_count": 11,
   "metadata": {},
   "outputs": [
    {
     "name": "stdout",
     "output_type": "stream",
     "text": [
      "Py\n",
      "on\n",
      "hon\n",
      "tho\n",
      "ytho\n"
     ]
    }
   ],
   "source": [
    "print(s1[0:2])\n",
    "print(s1[-2:])\n",
    "print(s1[3:])\n",
    "print(s1[2:5])\n",
    "print(s1[1:-1])"
   ]
  },
  {
   "cell_type": "code",
   "execution_count": 13,
   "metadata": {},
   "outputs": [
    {
     "data": {
      "text/plain": [
       "'nohtyP'"
      ]
     },
     "execution_count": 13,
     "metadata": {},
     "output_type": "execute_result"
    }
   ],
   "source": [
    "s1[-1::-1]# reverse the string"
   ]
  },
  {
   "cell_type": "code",
   "execution_count": 14,
   "metadata": {},
   "outputs": [
    {
     "data": {
      "text/plain": [
       "'Pto'"
      ]
     },
     "execution_count": 14,
     "metadata": {},
     "output_type": "execute_result"
    }
   ],
   "source": [
    "#Access the characters in string alternate\n",
    "#Python---Pto\n",
    "s1[::2]"
   ]
  },
  {
   "cell_type": "code",
   "execution_count": 16,
   "metadata": {},
   "outputs": [
    {
     "data": {
      "text/plain": [
       "'nhy'"
      ]
     },
     "execution_count": 16,
     "metadata": {},
     "output_type": "execute_result"
    }
   ],
   "source": [
    "#access the alternate characters from reverse direction\n",
    "#python---nhy\n",
    "\n",
    "s1[::-2]"
   ]
  },
  {
   "cell_type": "code",
   "execution_count": 17,
   "metadata": {},
   "outputs": [
    {
     "data": {
      "text/plain": [
       "'Ph'"
      ]
     },
     "execution_count": 17,
     "metadata": {},
     "output_type": "execute_result"
    }
   ],
   "source": [
    "s1[::3]"
   ]
  },
  {
   "cell_type": "markdown",
   "metadata": {},
   "source": [
    "### Functions with String Operations"
   ]
  },
  {
   "cell_type": "code",
   "execution_count": 20,
   "metadata": {},
   "outputs": [
    {
     "data": {
      "text/plain": [
       "'nohtyP'"
      ]
     },
     "execution_count": 20,
     "metadata": {},
     "output_type": "execute_result"
    }
   ],
   "source": [
    "#reverse the string\n",
    "def reverseStr(s):\n",
    "    return s[-1::-1]\n",
    "reverseStr('Python')"
   ]
  },
  {
   "cell_type": "code",
   "execution_count": 24,
   "metadata": {},
   "outputs": [
    {
     "name": "stdout",
     "output_type": "stream",
     "text": [
      "False\n",
      "True\n"
     ]
    }
   ],
   "source": [
    "#to check the given string is palindrome or not a palindrome\n",
    "def isPalindrome(s):\n",
    "    if s==s[-1::-1]:\n",
    "        return True\n",
    "    return False\n",
    "print(isPalindrome('Python'))\n",
    "print(isPalindrome('dad'))"
   ]
  },
  {
   "cell_type": "code",
   "execution_count": 25,
   "metadata": {},
   "outputs": [
    {
     "name": "stdout",
     "output_type": "stream",
     "text": [
      "P T "
     ]
    }
   ],
   "source": [
    "#function to print the upper case characters \n",
    "#example : PyThon---P T\n",
    "\n",
    "#ASCII \n",
    "# A-Z : 65-90\n",
    "# a-z : 97-122\n",
    "# 0-9 : 48-57\n",
    "# space : 32\n",
    "\n",
    "def printUpper(s):\n",
    "    for i in range(len(s)):\n",
    "        if ord(s[i])>=65 and ord(s[i])<=90:\n",
    "            print(s[i],end=' ')\n",
    "    return\n",
    "printUpper('PyThon') # P T"
   ]
  },
  {
   "cell_type": "code",
   "execution_count": 26,
   "metadata": {},
   "outputs": [
    {
     "data": {
      "text/plain": [
       "65"
      ]
     },
     "execution_count": 26,
     "metadata": {},
     "output_type": "execute_result"
    }
   ],
   "source": [
    "ord('A') # ord() function gives the output as number which is equal to ASCII number"
   ]
  },
  {
   "cell_type": "code",
   "execution_count": 32,
   "metadata": {},
   "outputs": [
    {
     "name": "stdout",
     "output_type": "stream",
     "text": [
      "Programming\n"
     ]
    }
   ],
   "source": [
    "#function to return the output as \"SameCount\" or \"Programming\"\n",
    "# SameCount------Lower and Upper chars have same count\n",
    "#Programming---Count of Lower and Upper case is not same\n",
    "\n",
    "#Example  #1 : PyThOn --- 3 P T O\n",
    "#                     --- 3 y h n\n",
    "#Output : SameCount\n",
    "\n",
    "# Example  #2 : PythoN  --2 P N\n",
    "#                       --4 y t h o\n",
    "#Output : Programming\n",
    "def output(s):\n",
    "    tempLower=0\n",
    "    tempUpper=0\n",
    "    for i in range(len(s)):\n",
    "        if ord(s[i])>=65 and ord(s[i])<=90:\n",
    "            tempLower+=1\n",
    "        elif ord(s[i])>=97 and ord(s[i])<=122:\n",
    "            tempUpper+=1\n",
    "    if tempLower==tempUpper:\n",
    "        print('SameCount')\n",
    "    else:\n",
    "        print('Programming')\n",
    "    return\n",
    "output('PyThon')"
   ]
  },
  {
   "cell_type": "code",
   "execution_count": 34,
   "metadata": {},
   "outputs": [
    {
     "name": "stdout",
     "output_type": "stream",
     "text": [
      "1 8 8 9 "
     ]
    }
   ],
   "source": [
    "#function to extract the digits from the string\n",
    "#example #1:\n",
    "#input : Appli18cation89\n",
    "#output : 1 8 8 9\n",
    "def digitsFromString(s):\n",
    "    for i in range(len(s)):\n",
    "        if ord(s[i])>=48 and ord(s[i])<=57:\n",
    "            print(s[i],end=\" \")\n",
    "    return\n",
    "digitsFromString('Appli18cation89')"
   ]
  },
  {
   "cell_type": "code",
   "execution_count": 38,
   "metadata": {},
   "outputs": [
    {
     "data": {
      "text/plain": [
       "26"
      ]
     },
     "execution_count": 38,
     "metadata": {},
     "output_type": "execute_result"
    }
   ],
   "source": [
    "# Function to  add the digits of the string\n",
    "# Example #1:\n",
    "# input : Appli18cation89\n",
    "#output : 26(1+8+8+9)\n",
    "def addDigits(s):\n",
    "    sum=0\n",
    "    for i in range(len(s)):\n",
    "        if ord(s[i])>=48 and ord(s[i])<=57:\n",
    "            sum+=int(s[i])\n",
    "    return sum\n",
    "addDigits('Appli18cation89')\n",
    "            \n",
    "        "
   ]
  },
  {
   "cell_type": "code",
   "execution_count": 48,
   "metadata": {},
   "outputs": [
    {
     "name": "stdout",
     "output_type": "stream",
     "text": [
      "M A D E "
     ]
    }
   ],
   "source": [
    "#Function to 2nd word in upper case\n",
    "#Example #1:\n",
    "#input : Python Made Easy\n",
    "#output :MADE\n",
    "\n",
    "#Example #2:\n",
    "# input : Learn Python Strings\n",
    "#Output : PYTHON\n",
    "def secWordUpper(s):\n",
    "    cntSpace=0\n",
    "    for i in range(len(s)):\n",
    "        if ord(s[i])==32:\n",
    "            cntSpace+=1\n",
    "        if cntSpace==1:\n",
    "            if ord(s[i])>=65 and ord(s[i])<=90:\n",
    "                print(s[i],end=' ')\n",
    "            elif ord(s[i])>=97 and ord(s[i])<=122:\n",
    "                print(chr(ord(s[i])-32),end=' ')\n",
    "        if cntSpace==2:\n",
    "            break\n",
    "                   \n",
    "    return\n",
    "secWordUpper('Python Made Easy') #MADE\n",
    "        "
   ]
  },
  {
   "cell_type": "markdown",
   "metadata": {},
   "source": [
    "## List\n",
    "- One of the data structure in Python\n",
    "- Data Structure means to store,sort and search Options\n",
    "- It's one common data structure in Python,the items of lists seperated by comma and enclosed in squaree brackets[]\n",
    "    - Example\n",
    "       - List1 = [1,2,3,4,5]\n",
    "       - List2 = [\"Gitam\",1,2,1.89,\"vizag\"]"
   ]
  },
  {
   "cell_type": "code",
   "execution_count": 49,
   "metadata": {},
   "outputs": [
    {
     "name": "stdout",
     "output_type": "stream",
     "text": [
      "[1, 8, 16, 9, 2]\n",
      "1\n",
      "8\n",
      "2\n",
      "9\n",
      "[16, 9, 2]\n",
      "[16, 9]\n"
     ]
    }
   ],
   "source": [
    "li=[1,8,16,9,2]\n",
    "print(li) #will print the all  the list items\n",
    "print(li[0]) #access the first item of  the  list\n",
    "print(li[1])\n",
    "print(li[-1])# access the last element of list\n",
    "print(li[-2])\n",
    "print(li[2:])\n",
    "print(li[2:4])"
   ]
  },
  {
   "cell_type": "code",
   "execution_count": 52,
   "metadata": {},
   "outputs": [
    {
     "name": "stdout",
     "output_type": "stream",
     "text": [
      "['Gitam', 2010, 2011, 2012, 'Vizag']\n",
      "['Gitam', 1234, 2011, 2012, 'Vizag']\n"
     ]
    }
   ],
   "source": [
    "li=[\"Gitam\",2010,2011,2012,\"Vizag\"]\n",
    "print(li)\n",
    "#update the list item with value using index\n",
    "li[1]=1234\n",
    "print(li)"
   ]
  },
  {
   "cell_type": "code",
   "execution_count": 54,
   "metadata": {},
   "outputs": [
    {
     "name": "stdout",
     "output_type": "stream",
     "text": [
      "['Gitam', 1234, 2011]\n"
     ]
    }
   ],
   "source": [
    "#delete the list item from the list\n",
    "del li[3]\n",
    "print(li)"
   ]
  },
  {
   "cell_type": "code",
   "execution_count": 56,
   "metadata": {},
   "outputs": [
    {
     "name": "stdout",
     "output_type": "stream",
     "text": [
      "5\n",
      "[1, 2, 3, 4, 5, 1, 2, 3, 4, 5]\n",
      "True\n",
      "False\n",
      "1 2 3 4 5 \n",
      "1 2 3 4 5 "
     ]
    }
   ],
   "source": [
    "# Basic List Operations\n",
    "li=[1,2,3,4,5]\n",
    "#Len of the List\n",
    "print(len(li))\n",
    "#list repetation\n",
    "print(li*2)\n",
    "# to know certain item is present in the list or not\n",
    "print(4 in li)\n",
    "print(10 in li)\n",
    "#access the list items from the Iterations\n",
    "#1 way to define\n",
    "for i in range(len(li)):\n",
    "    print(li[i],end=' ')\n",
    "print()\n",
    "#2 way to print the list items\n",
    "for i in li:\n",
    "    print(i,end=' ')"
   ]
  },
  {
   "cell_type": "code",
   "execution_count": 57,
   "metadata": {},
   "outputs": [
    {
     "name": "stdout",
     "output_type": "stream",
     "text": [
      "67\n",
      "1\n",
      "136\n",
      "34\n"
     ]
    }
   ],
   "source": [
    "li=[1,23,45,67]\n",
    "print(max(li)) # maximum nummber of the  list\n",
    "print(min(li)) #minimum no of list\n",
    "print(sum(li)) #sum of all list items\n",
    "print(sum(li)//len(li)) #avg of list items"
   ]
  },
  {
   "cell_type": "code",
   "execution_count": 58,
   "metadata": {},
   "outputs": [
    {
     "name": "stdout",
     "output_type": "stream",
     "text": [
      "[1, 23, 45, 67]\n"
     ]
    }
   ],
   "source": [
    "#methods of list\n",
    "print(li)"
   ]
  },
  {
   "cell_type": "code",
   "execution_count": 59,
   "metadata": {},
   "outputs": [
    {
     "data": {
      "text/plain": [
       "[1, 23, 45, 67]"
      ]
     },
     "execution_count": 59,
     "metadata": {},
     "output_type": "execute_result"
    }
   ],
   "source": [
    "li"
   ]
  },
  {
   "cell_type": "code",
   "execution_count": 64,
   "metadata": {},
   "outputs": [
    {
     "data": {
      "text/plain": [
       "[1, 23, 56, 56, 56, 56, 45, 67, 29, 29, 29, 29, 29]"
      ]
     },
     "execution_count": 64,
     "metadata": {},
     "output_type": "execute_result"
    }
   ],
   "source": [
    "li.append(29)# adds element at the end of the list\n",
    "li.insert(2,56) # add the new item at the specific index\n",
    "li"
   ]
  },
  {
   "cell_type": "code",
   "execution_count": 65,
   "metadata": {},
   "outputs": [
    {
     "data": {
      "text/plain": [
       "2"
      ]
     },
     "execution_count": 65,
     "metadata": {},
     "output_type": "execute_result"
    }
   ],
   "source": [
    "li.count(9)#returns the value how many objects repeted\n",
    "li.index(56)# returns the value of  the index"
   ]
  },
  {
   "cell_type": "code",
   "execution_count": 70,
   "metadata": {},
   "outputs": [
    {
     "data": {
      "text/plain": [
       "[1, 23, 29, 29, 29, 29, 29, 45]"
      ]
     },
     "execution_count": 70,
     "metadata": {},
     "output_type": "execute_result"
    }
   ],
   "source": [
    "#method of list object\n",
    "li.sort()# sorts the list in ascending order\n",
    "li.pop() # last index value\n",
    "li"
   ]
  },
  {
   "cell_type": "code",
   "execution_count": 74,
   "metadata": {},
   "outputs": [
    {
     "data": {
      "text/plain": [
       "[1, 29, 29, 45]"
      ]
     },
     "execution_count": 74,
     "metadata": {},
     "output_type": "execute_result"
    }
   ],
   "source": [
    "li.remove(29)\n",
    "li.pop(2)# removes element from the index 2\n",
    "li"
   ]
  },
  {
   "cell_type": "code",
   "execution_count": 75,
   "metadata": {},
   "outputs": [
    {
     "data": {
      "text/plain": [
       "[1, 11, 12, 29, 29, 30, 35, 39, 50, 58, 60]"
      ]
     },
     "execution_count": 75,
     "metadata": {},
     "output_type": "execute_result"
    }
   ],
   "source": [
    "li=[1,29,29,30,35,58]\n",
    "li1=[39,50,60,11,12]\n",
    "li.extend(li1)\n",
    "li.reverse()\n",
    "li.sort()\n",
    "li"
   ]
  },
  {
   "cell_type": "code",
   "execution_count": 77,
   "metadata": {},
   "outputs": [
    {
     "name": "stdout",
     "output_type": "stream",
     "text": [
      "45\n",
      "22\n"
     ]
    }
   ],
   "source": [
    "# function to  return the large number from the list\n",
    "\n",
    "def largeNumber(li):\n",
    "    li.sort()\n",
    "    return li[-1]\n",
    "def genericLarge(li,n):\n",
    "    li.sort()\n",
    "    return li[-n]\n",
    "li=[19,1,25,6,9,45,22]\n",
    "print(largeNumber(li))\n",
    "print(genericLarge(li,3))"
   ]
  },
  {
   "cell_type": "code",
   "execution_count": 80,
   "metadata": {},
   "outputs": [
    {
     "name": "stdout",
     "output_type": "stream",
     "text": [
      "1\n",
      "19\n"
     ]
    }
   ],
   "source": [
    "#function to find least and generic least number from the list\n",
    "def leastNumber(li):\n",
    "    li.sort()\n",
    "    return li[0]\n",
    "def genericLeastNumber(li,n):\n",
    "    li.sort()\n",
    "    return li[n-1]\n",
    "li=[19,1,25,6,9,45,22]\n",
    "print(leastNumber(li))\n",
    "print(genericLeastNumber(li,4))"
   ]
  },
  {
   "cell_type": "markdown",
   "metadata": {},
   "source": [
    "### File Handing in Python\n",
    "- File - Document which contains some information and resides on permanent devices\n",
    "- Different types of File -- .txt,.pdf,.doc,.ppf and etc...\n",
    "- Input -- Keyboard\n",
    "- Output - File System\n"
   ]
  },
  {
   "cell_type": "code",
   "execution_count": 92,
   "metadata": {},
   "outputs": [
    {
     "name": "stdout",
     "output_type": "stream",
     "text": [
      "File is successfully created and data has inserted\n"
     ]
    }
   ],
   "source": [
    "# function to create file and write some data to the file\n",
    "# Mode -- w(it creates the file and write to the some data)\n",
    "#         if the file already exists with same name then it will rewrite the data\n",
    "\n",
    "def createFile(filename):\n",
    "    f=open(filename,'w')\n",
    "    for i in range (10):\n",
    "        f.write('This is %d line \\n' % i)\n",
    "    print('File is successfully created and data has inserted')\n",
    "    return\n",
    "createFile('data.txt')"
   ]
  },
  {
   "cell_type": "code",
   "execution_count": 87,
   "metadata": {},
   "outputs": [
    {
     "data": {
      "text/plain": [
       "'C:\\\\Users\\\\mythri\\\\Desktop\\\\Problem Solving and Programming'"
      ]
     },
     "execution_count": 87,
     "metadata": {},
     "output_type": "execute_result"
    }
   ],
   "source": [
    "pwd"
   ]
  },
  {
   "cell_type": "code",
   "execution_count": 89,
   "metadata": {},
   "outputs": [
    {
     "name": "stdout",
     "output_type": "stream",
     "text": [
      "Completed Successfully\n"
     ]
    }
   ],
   "source": [
    "def createFile(filename):\n",
    "    f=open(filename,'w')\n",
    "    f.write('Gitam Vizag Python Training')\n",
    "    print('Completed Successfully')\n",
    "    return\n",
    "createFile('data.txt')\n",
    "\n"
   ]
  },
  {
   "cell_type": "code",
   "execution_count": 93,
   "metadata": {},
   "outputs": [
    {
     "name": "stdout",
     "output_type": "stream",
     "text": [
      "Program completed successfully\n"
     ]
    }
   ],
   "source": [
    "#Mode -- a(if the file is not available it creates the file)\n",
    "#     -- if the file is already present with same name\n",
    "#   -- append the data at the end of the previous line\n",
    "def appendMode(filename):\n",
    "    f=open(filename,'a')\n",
    "    f.write('Gitam Vizag\\n')\n",
    "    f.write('Python Programming\\n')\n",
    "    print(\"Program completed successfully\")\n",
    "    return\n",
    "appendMode('data.txt')"
   ]
  },
  {
   "cell_type": "code",
   "execution_count": 94,
   "metadata": {},
   "outputs": [
    {
     "name": "stdout",
     "output_type": "stream",
     "text": [
      "This is 0 line \n",
      "This is 1 line \n",
      "This is 2 line \n",
      "This is 3 line \n",
      "This is 4 line \n",
      "This is 5 line \n",
      "This is 6 line \n",
      "This is 7 line \n",
      "This is 8 line \n",
      "This is 9 line \n",
      "Gitam Vizag\n",
      "Python Programming\n",
      "\n"
     ]
    }
   ],
   "source": [
    "#function to read the file\n",
    "def readFileData(filename):\n",
    "    f=open(filename,'r')\n",
    "    if f.mode=='r':\n",
    "        a=f.read()\n",
    "        print(a)\n",
    "    f.close()\n",
    "    return\n",
    "readFileData('data.txt')\n"
   ]
  },
  {
   "cell_type": "code",
   "execution_count": 95,
   "metadata": {},
   "outputs": [
    {
     "name": "stdout",
     "output_type": "stream",
     "text": [
      "['Python', 'Programming']\n"
     ]
    }
   ],
   "source": [
    "#analysis on the file -- word count,char count,digit count\n",
    "s1='Python Programming'\n",
    "print(s1.split())"
   ]
  },
  {
   "cell_type": "code",
   "execution_count": 96,
   "metadata": {},
   "outputs": [
    {
     "data": {
      "text/plain": [
       "44"
      ]
     },
     "execution_count": 96,
     "metadata": {},
     "output_type": "execute_result"
    }
   ],
   "source": [
    "#word count---input file\n",
    "def wordCount(filename):\n",
    "    with open(filename,'r') as f:\n",
    "        if f.mode=='r':\n",
    "            a=f.read()\n",
    "            li=a.split()\n",
    "    return len(li)\n",
    "wordCount('data.txt')"
   ]
  },
  {
   "cell_type": "code",
   "execution_count": 99,
   "metadata": {},
   "outputs": [
    {
     "data": {
      "text/plain": [
       "10"
      ]
     },
     "execution_count": 99,
     "metadata": {},
     "output_type": "execute_result"
    }
   ],
   "source": [
    "#specific word count from the file\n",
    "# example #1:\n",
    "#input-- This\n",
    "#output --10\n",
    "#example #2:\n",
    "#input ---Gitam\n",
    "#output--1\n",
    "def wordCount1(filename,word):\n",
    "    with open(filename,'r') as f:\n",
    "        if f.mode=='r':\n",
    "            a=f.read()\n",
    "            li=a.split()\n",
    "    return li.count(word)\n",
    "wordCount1('data.txt','This')"
   ]
  },
  {
   "cell_type": "code",
   "execution_count": 101,
   "metadata": {},
   "outputs": [
    {
     "data": {
      "text/plain": [
       "191"
      ]
     },
     "execution_count": 101,
     "metadata": {},
     "output_type": "execute_result"
    }
   ],
   "source": [
    "#function to find  the character count from the input file\n",
    "def charCount(filename):\n",
    "    with open(filename,'r') as f:\n",
    "        if f.mode=='r':\n",
    "            a=f.read()\n",
    "            li=list(a)\n",
    "    return len(li)\n",
    "charCount('data.txt')"
   ]
  },
  {
   "cell_type": "code",
   "execution_count": 103,
   "metadata": {},
   "outputs": [
    {
     "data": {
      "text/plain": [
       "13"
      ]
     },
     "execution_count": 103,
     "metadata": {},
     "output_type": "execute_result"
    }
   ],
   "source": [
    "# find no of lines or rows in the given input stream\n",
    "def findLineCount(filename):\n",
    "    with open(filename,'r') as f:\n",
    "        if f.mode=='r':\n",
    "            a=f.read()\n",
    "            li=a.split('\\n')\n",
    "    return len(li)\n",
    "findLineCount('data.txt')"
   ]
  },
  {
   "cell_type": "code",
   "execution_count": 104,
   "metadata": {},
   "outputs": [
    {
     "data": {
      "text/plain": [
       "'Upper Case: 14 Lower Case: 113 Digit : 10'"
      ]
     },
     "execution_count": 104,
     "metadata": {},
     "output_type": "execute_result"
    }
   ],
   "source": [
    "#function to find the upper and lower case characters \n",
    "#from the input\n",
    "def caseCount(filename):\n",
    "    cntUpper=0\n",
    "    cntLower=0\n",
    "    cntDigit=0\n",
    "    with open(filename,'r') as f:\n",
    "        if f.mode=='r':\n",
    "            a=f.read()\n",
    "            li=list(a)\n",
    "    for i in range(len(li)):\n",
    "        if ord(li[i])>=65 and ord(li[i])<= 90:\n",
    "            cntUpper+=1\n",
    "        elif ord(li[i])>=97 and ord(li[i])<=122:\n",
    "            cntLower+=1\n",
    "        elif ord(li[i])>=48 and ord(li[i])<=57:\n",
    "            cntDigit+=1\n",
    "    output='Upper Case: {0} Lower Case: {1} Digit : {2}'.format(cntUpper,cntLower,cntDigit)        \n",
    "    return output\n",
    "caseCount('data.txt')"
   ]
  },
  {
   "cell_type": "code",
   "execution_count": null,
   "metadata": {},
   "outputs": [],
   "source": [
    "#Read the input as string and Output will followed\n",
    "#Example #1:\n",
    "#Input : orange \n",
    "#Output : puboif\n",
    "#Reason: Print the next consonent to the vowel and Print the vowel to the next consonent\n",
    "\n",
    "def \n"
   ]
  },
  {
   "cell_type": "code",
   "execution_count": 11,
   "metadata": {},
   "outputs": [
    {
     "name": "stdout",
     "output_type": "stream",
     "text": [
      " python  easy"
     ]
    }
   ],
   "source": [
    "#Read the input as string and Output will be alternate words in lower case\n",
    "#Example #1:\n",
    "#Input : Learn Python Programming EASy\n",
    "#Output : python easy\n",
    "def alterWordsLower(s):\n",
    "    cntSpace=0\n",
    "    for i in range(len(s)):\n",
    "        if ord(s[i])==32:\n",
    "            print(end=' ')\n",
    "            cntSpace+=1\n",
    "        if cntSpace%2!=0:\n",
    "            if ord(s[i])>=65 and ord(s[i])<=90:\n",
    "                print(chr(ord(s[i])+32),end=\"\")\n",
    "            elif ord(s[i])>=97 and ord(s[i])<=122:\n",
    "                print(s[i],end=\"\")\n",
    "    return\n",
    "alterWordsLower('Learn Python Programming EASy')"
   ]
  },
  {
   "cell_type": "code",
   "execution_count": null,
   "metadata": {},
   "outputs": [],
   "source": [
    "#Read the input as string and Print the Output as Only even digit sum\n",
    "#Example #1:\n",
    "#Input : Applc18iation89\n",
    "#Output : 16 (8+8)"
   ]
  },
  {
   "cell_type": "code",
   "execution_count": 17,
   "metadata": {},
   "outputs": [
    {
     "data": {
      "text/plain": [
       "16"
      ]
     },
     "execution_count": 17,
     "metadata": {},
     "output_type": "execute_result"
    }
   ],
   "source": [
    "def evenDigitSum(s):\n",
    "    sum=0\n",
    "    for i in range(len(s)):\n",
    "        if ord(s[i])>=48 and ord(s[i])<=57:\n",
    "            if ord(s[i])%2==0:\n",
    "                sum=sum+int(s[i])\n",
    "    return sum\n",
    "evenDigitSum('Applic18iation89')"
   ]
  },
  {
   "cell_type": "code",
   "execution_count": 34,
   "metadata": {},
   "outputs": [
    {
     "name": "stdout",
     "output_type": "stream",
     "text": [
      "pYTHONpROGRAmminG"
     ]
    }
   ],
   "source": [
    "#Read the string as input and Print the output following the manner\n",
    "#Example #1:\n",
    "#Input: PythonProgrMMINg \n",
    "#Output: pYTHONpROGRmminG\n",
    "def lowerUpper(s):\n",
    "    for i in range(len(s)):\n",
    "        if ord(s[i])>=65 and ord(s[i])<=90:\n",
    "            print(chr(ord(s[i])+32),end=\"\")\n",
    "        elif ord(s[i])>=97 and ord(s[i])<=122:\n",
    "            print(chr(ord(s[i])-32),end=\"\")\n",
    "    return\n",
    "lowerUpper(\"PythonPrograMMINg\")                              "
   ]
  },
  {
   "cell_type": "code",
   "execution_count": 33,
   "metadata": {},
   "outputs": [
    {
     "name": "stdout",
     "output_type": "stream",
     "text": [
      "2\n"
     ]
    }
   ],
   "source": [
    "#Read the string and char as input and Print no of occurance of character in the given string\n",
    "#Example #1;\n",
    "#Input : Application,p\n",
    "#Output : 2\n",
    "def numOfOccurances(s,char):\n",
    "    x=0\n",
    "    for i in range(len(s)):\n",
    "        if ord(s[i])==ord(char):\n",
    "            x+=1\n",
    "    print(x)\n",
    "    return\n",
    "numOfOccurances('Application','p')"
   ]
  },
  {
   "cell_type": "code",
   "execution_count": null,
   "metadata": {},
   "outputs": [],
   "source": []
  }
 ],
 "metadata": {
  "kernelspec": {
   "display_name": "Python 3",
   "language": "python",
   "name": "python3"
  },
  "language_info": {
   "codemirror_mode": {
    "name": "ipython",
    "version": 3
   },
   "file_extension": ".py",
   "mimetype": "text/x-python",
   "name": "python",
   "nbconvert_exporter": "python",
   "pygments_lexer": "ipython3",
   "version": "3.6.5"
  }
 },
 "nbformat": 4,
 "nbformat_minor": 2
}
